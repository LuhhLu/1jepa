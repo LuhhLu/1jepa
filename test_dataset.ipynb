{
 "cells": [
  {
   "cell_type": "code",
   "execution_count": 1,
   "metadata": {},
   "outputs": [],
   "source": [
    "import matplotlib.pyplot as plt\n",
    "import numpy as np\n",
    "import os\n",
    "from src.datasets.video_dataset import make_videodataset"
   ]
  },
  {
   "cell_type": "code",
   "execution_count": 2,
   "metadata": {},
   "outputs": [],
   "source": [
    "# Parameters for testing\n",
    "data_paths = [\"../data_path_sample.npy\"]  # Path to a CSV file containing test data paths and labels\n",
    "batch_size = 4\n",
    "frames_per_clip = 8"
   ]
  },
  {
   "cell_type": "code",
   "execution_count": 3,
   "metadata": {},
   "outputs": [],
   "source": [
    "# Create the dataset and dataloader\n",
    "from torchvision import transforms\n",
    "\n",
    "resize_transform = transforms.Compose([\n",
    "    transforms.Resize((224, 224)),\n",
    "    transforms.ToTensor()\n",
    "])\n",
    "\n",
    "dataset, data_loader, _ = make_videodataset(\n",
    "    data_paths=data_paths,\n",
    "    batch_size=batch_size,\n",
    "    frames_per_clip=frames_per_clip,\n",
    "    frame_step=2,\n",
    "    num_clips=1,\n",
    "    random_clip_sampling=True,\n",
    "    allow_clip_overlap=False,\n",
    "    filter_short_videos=False,\n",
    "    filter_long_videos=int(10**9),\n",
    "    transform=resize_transform,\n",
    "    shared_transform=None,\n",
    "    rank=0,\n",
    "    world_size=1,\n",
    "    datasets_weights=None,\n",
    "    collator=None,\n",
    "    drop_last=True,\n",
    "    num_workers=0,  # Set to 0 for testing on local machines\n",
    "    pin_mem=False,\n",
    ")\n"
   ]
  },
  {
   "cell_type": "code",
   "execution_count": null,
   "metadata": {},
   "outputs": [],
   "source": [
    "# Fetch one batch of data\n",
    "for batch in data_loader:\n",
    "    videos, labels, clip_indices = batch\n",
    "\n",
    "    print(f\"Videos shape: {videos[0].shape}, Labels: {labels}, Clip indices: {clip_indices}\")\n",
    "\n",
    "    # Visualize one video from the batch\n",
    "    video = videos[0]  # Select the first video in the batch\n",
    "\n",
    "    for i, frame in enumerate(video):\n",
    "        frame_np = frame.permute(1, 2, 0).numpy()  # Convert (C, H, W) -> (H, W, C)\n",
    "        plt.imshow(frame_np)\n",
    "        plt.title(f\"Frame {i + 1}\")\n",
    "        plt.axis(\"off\")\n",
    "        plt.show()\n",
    "\n",
    "    break  # Only process the first batch for visualization"
   ]
  },
  {
   "cell_type": "code",
   "execution_count": null,
   "metadata": {},
   "outputs": [],
   "source": []
  }
 ],
 "metadata": {
  "language_info": {
   "name": "python"
  }
 },
 "nbformat": 4,
 "nbformat_minor": 2
}
